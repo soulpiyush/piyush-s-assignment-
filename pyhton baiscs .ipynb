{
 "cells": [
  {
   "cell_type": "code",
   "execution_count": 1,
   "id": "8cb37901-52ac-4b6b-8b39-3b982e4c8c1a",
   "metadata": {},
   "outputs": [
    {
     "name": "stdout",
     "output_type": "stream",
     "text": [
      "Hello World\n"
     ]
    }
   ],
   "source": [
    "#Question 1.\n",
    "\n",
    "print(\"Hello World\")"
   ]
  },
  {
   "cell_type": "code",
   "execution_count": 2,
   "id": "6bf05316-f3b9-41fd-99b0-3d481d359913",
   "metadata": {},
   "outputs": [
    {
     "name": "stdin",
     "output_type": "stream",
     "text": [
      "Name: piyush\n",
      "Age : 23\n"
     ]
    }
   ],
   "source": [
    "# Question 2.\n",
    "\n",
    "Name = input ( \"Name:\")\n",
    "Age = input (\"Age :\")\n"
   ]
  },
  {
   "cell_type": "code",
   "execution_count": 3,
   "id": "94d09bb5-4d6c-4478-8f28-5a1654619783",
   "metadata": {},
   "outputs": [
    {
     "name": "stdout",
     "output_type": "stream",
     "text": [
      "\n",
      "Here is a list of the Python keywords.  Enter any keyword to get more help.\n",
      "\n",
      "False               class               from                or\n",
      "None                continue            global              pass\n",
      "True                def                 if                  raise\n",
      "and                 del                 import              return\n",
      "as                  elif                in                  try\n",
      "assert              else                is                  while\n",
      "async               except              lambda              with\n",
      "await               finally             nonlocal            yield\n",
      "break               for                 not                 \n",
      "\n"
     ]
    }
   ],
   "source": [
    "# Question 3\n",
    "\n",
    "help('keywords')"
   ]
  },
  {
   "cell_type": "code",
   "execution_count": 4,
   "id": "beee5c47-ace8-49f8-9f48-1b3ee71790f7",
   "metadata": {},
   "outputs": [
    {
     "name": "stdout",
     "output_type": "stream",
     "text": [
      "True\n",
      "False\n"
     ]
    }
   ],
   "source": [
    "# Question 4 \n",
    "\n",
    "import keyword\n",
    "\n",
    "print (keyword.iskeyword (\"None\"))\n",
    "\n",
    "print (keyword.iskeyword (\"piyush\"))"
   ]
  },
  {
   "cell_type": "code",
   "execution_count": 5,
   "id": "ed0d72c8-c06d-49aa-a921-e8670f407a7f",
   "metadata": {},
   "outputs": [
    {
     "name": "stdout",
     "output_type": "stream",
     "text": [
      "['soul', 'Piyush', 85.85, 'loss', ' profit', 8]\n"
     ]
    },
    {
     "ename": "TypeError",
     "evalue": "'tuple' object does not support item assignment",
     "output_type": "error",
     "traceback": [
      "\u001b[31m---------------------------------------------------------------------------\u001b[39m",
      "\u001b[31mTypeError\u001b[39m                                 Traceback (most recent call last)",
      "\u001b[36mCell\u001b[39m\u001b[36m \u001b[39m\u001b[32mIn[5]\u001b[39m\u001b[32m, line 10\u001b[39m\n\u001b[32m      8\u001b[39m \u001b[38;5;66;03m# tuple\u001b[39;00m\n\u001b[32m      9\u001b[39m u = (\u001b[32m87\u001b[39m, \u001b[32m65\u001b[39m, \u001b[32m66\u001b[39m, \u001b[32m89\u001b[39m, \u001b[32m25\u001b[39m)\n\u001b[32m---> \u001b[39m\u001b[32m10\u001b[39m u[\u001b[32m2\u001b[39m] = \u001b[32m99\u001b[39m\n\u001b[32m     11\u001b[39m \u001b[38;5;28mprint\u001b[39m(u)\n",
      "\u001b[31mTypeError\u001b[39m: 'tuple' object does not support item assignment"
     ]
    }
   ],
   "source": [
    "# question 5 \n",
    "\n",
    "# list\n",
    "p = [\"soul\", 33, 85.85 , \"loss\" , \" profit\", 8 ]\n",
    "p[1] = \"Piyush\"\n",
    "print(p)\n",
    "\n",
    "# tuple\n",
    "u = (87, 65, 66, 89, 25)\n",
    "u[2] = 99\n",
    "print(u)\n",
    "\n",
    "\n",
    "# As now you can see how attempting to change an element works differently for list and tuple. "
   ]
  },
  {
   "cell_type": "code",
   "execution_count": 6,
   "id": "b29a0248-9829-4196-a384-6f77bcc9400c",
   "metadata": {},
   "outputs": [
    {
     "name": "stdout",
     "output_type": "stream",
     "text": [
      "a : 25\n",
      "b: [60, 30, 40, 50, 80, 60]\n"
     ]
    }
   ],
   "source": [
    "# question 6\n",
    "\n",
    "a = 25 #integer value\n",
    "b = [60, 30, 40, 50, 80 ] #list\n",
    "b.append(60)\n",
    "print( \"a :\" , a)\n",
    "print (\"b:\" , b)\n",
    "\n",
    "# when i tried to append to 'a' , that was throwing me an error."
   ]
  },
  {
   "cell_type": "code",
   "execution_count": 7,
   "id": "8d67c0ba-5e5b-46d8-9dd4-8913bcf25bf8",
   "metadata": {},
   "outputs": [
    {
     "name": "stdin",
     "output_type": "stream",
     "text": [
      "Enter First Number  : 89\n",
      "Enter Second Number : 58\n"
     ]
    },
    {
     "name": "stdout",
     "output_type": "stream",
     "text": [
      "Addition :  147\n",
      "Subtraction :  31\n",
      "Multiplication : 5162\n"
     ]
    }
   ],
   "source": [
    "# question 7\n",
    "\n",
    "x = int(input (\"Enter First Number  :\"))\n",
    "y = int (input (\"Enter Second Number :\"))\n",
    "\n",
    "print (\"Addition : \" , x + y )\n",
    "print (\"Subtraction : \", x-y)\n",
    "print (\"Multiplication :\" , (x*y))"
   ]
  },
  {
   "cell_type": "code",
   "execution_count": 8,
   "id": "7238156a-a4d4-498d-924e-7c8c1c2eeb1b",
   "metadata": {},
   "outputs": [
    {
     "name": "stdout",
     "output_type": "stream",
     "text": [
      " a and b :  False\n",
      " a or b : True\n",
      " not a : False\n"
     ]
    }
   ],
   "source": [
    "## Question 8\n",
    "\n",
    "a = True\n",
    "b = False\n",
    "\n",
    "print(\" a and b : \",a and b )\n",
    "\n",
    "print(\" a or b :\" , a or b)\n",
    "\n",
    "print(\" not a :\" , not a)"
   ]
  },
  {
   "cell_type": "code",
   "execution_count": 9,
   "id": "ac54c440-2b2b-4f10-9da2-a6e710e51a58",
   "metadata": {},
   "outputs": [
    {
     "name": "stdin",
     "output_type": "stream",
     "text": [
      "Enter a number : 85\n"
     ]
    },
    {
     "name": "stdout",
     "output_type": "stream",
     "text": [
      "Interger : 85\n",
      "Float: 85.0\n",
      "bool : True\n"
     ]
    }
   ],
   "source": [
    "# Question 9\n",
    "\n",
    "# input is string\n",
    "user_input = input(\"Enter a number :\")\n",
    "\n",
    "# converting str input into int\n",
    "int_value = int(user_input)\n",
    "print (\"Interger :\" , int_value )\n",
    "\n",
    "# converting str into float value\n",
    "float_value = float(user_input)\n",
    "print('Float:', float_value)\n",
    "\n",
    "# converting str into boolean value\n",
    "bool_value = bool(user_input)\n",
    "print (\"bool :\" , bool_value)"
   ]
  },
  {
   "cell_type": "code",
   "execution_count": 10,
   "id": "75493bce-e7c1-46e3-b10a-cacba668cb9e",
   "metadata": {},
   "outputs": [
    {
     "name": "stdout",
     "output_type": "stream",
     "text": [
      " Integer List : [1, 4, 9, 7]\n",
      " Float List : [1.0, 4.0, 9.0, 7.0]\n"
     ]
    }
   ],
   "source": [
    "# Question 10\n",
    "\n",
    "str_list = [ '1','4', '9', '7' ]\n",
    "\n",
    "int_list = [ int(u) for u in str_list]\n",
    "print( \" Integer List :\" , int_list)\n",
    "\n",
    "float_list = [ float(u) for u in str_list]\n",
    "print (\" Float List :\" , float_list)"
   ]
  },
  {
   "cell_type": "code",
   "execution_count": 11,
   "id": "fdc44e72-cd96-4457-aec0-e4536c13e711",
   "metadata": {},
   "outputs": [
    {
     "name": "stdin",
     "output_type": "stream",
     "text": [
      "Number = 52\n"
     ]
    },
    {
     "name": "stdout",
     "output_type": "stream",
     "text": [
      "Number is Positive\n"
     ]
    }
   ],
   "source": [
    "# Question 11\n",
    "\n",
    "x =  float (input (\"Number =\"))\n",
    "if x > 0:\n",
    "    print (\"Number is Positive\")\n",
    "elif x < 0 :\n",
    "    print (\"Number is Negative\")\n",
    "else :\n",
    "    print(\"The Number is Zero\")"
   ]
  },
  {
   "cell_type": "code",
   "execution_count": null,
   "id": "b17ff391-d0ce-4c66-9799-7f66aae72996",
   "metadata": {},
   "outputs": [],
   "source": []
  }
 ],
 "metadata": {
  "kernelspec": {
   "display_name": "Python 3 (ipykernel)",
   "language": "python",
   "name": "python3"
  },
  "language_info": {
   "codemirror_mode": {
    "name": "ipython",
    "version": 3
   },
   "file_extension": ".py",
   "mimetype": "text/x-python",
   "name": "python",
   "nbconvert_exporter": "python",
   "pygments_lexer": "ipython3",
   "version": "3.12.7"
  }
 },
 "nbformat": 4,
 "nbformat_minor": 5
}
